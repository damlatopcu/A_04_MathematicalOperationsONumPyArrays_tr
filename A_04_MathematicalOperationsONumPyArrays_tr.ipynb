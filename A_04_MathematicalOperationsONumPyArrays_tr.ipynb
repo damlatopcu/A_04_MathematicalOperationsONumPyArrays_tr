{
 "cells": [
  {
   "cell_type": "code",
   "execution_count": 1,
   "metadata": {},
   "outputs": [
    {
     "data": {
      "text/plain": [
       "array([[1.000e+00, 0.000e+00, 0.000e+00, ..., 4.100e+00, 7.000e+00,\n",
       "        0.000e+00],\n",
       "       [2.000e+00, 0.000e+00, 0.000e+00, ..., 4.400e+00, 7.000e+00,\n",
       "        0.000e+00],\n",
       "       [3.000e+00, 0.000e+00, 0.000e+00, ..., 4.000e+00, 7.000e+00,\n",
       "        0.000e+00],\n",
       "       ...,\n",
       "       [6.571e+03, 4.000e+00, 0.000e+00, ..., 4.800e+00, 2.000e+00,\n",
       "        0.000e+00],\n",
       "       [6.572e+03, 3.000e+00, 0.000e+00, ..., 5.200e+00, 2.000e+00,\n",
       "        0.000e+00],\n",
       "       [6.573e+03, 2.000e+00, 0.000e+00, ..., 4.400e+00, 2.000e+00,\n",
       "        0.000e+00]])"
      ]
     },
     "execution_count": 1,
     "metadata": {},
     "output_type": "execute_result"
    }
   ],
   "source": [
    "import pandas as pd\n",
    "import numpy as np\n",
    "import csv\n",
    "import math\n",
    "import os,sys\n",
    "from scipy import stats\n",
    "\n",
    "bb=pd.read_csv(\"Earthquakes_new.csv\",sep=\";\")\n",
    "earthquakes_new_2=np.array(bb)\n",
    "earthquakes_new_2"
   ]
  },
  {
   "cell_type": "code",
   "execution_count": 2,
   "metadata": {},
   "outputs": [
    {
     "name": "stdout",
     "output_type": "stream",
     "text": [
      "[3.28700000e+03 5.50033866e+03 0.00000000e+00 8.86961813e-02\n",
      " 0.00000000e+00 1.81473635e+02 1.56940270e+02 2.49842462e+01\n",
      " 0.00000000e+00 1.01455956e+01 0.00000000e+00 0.00000000e+00\n",
      " 4.46767077e+00 6.77650997e+00 0.00000000e+00]\n",
      "\n",
      "\n",
      "[1.89746164e+03 3.97624224e+03 0.00000000e+00 4.06715671e-01\n",
      " 0.00000000e+00 1.69615858e+02 1.53319049e+02 2.77585355e+01\n",
      " 0.00000000e+00 1.27987480e+01 0.00000000e+00 0.00000000e+00\n",
      " 4.85684311e-01 5.41201695e+00 0.00000000e+00]\n"
     ]
    }
   ],
   "source": [
    "print(np.mean(earthquakes_new_2, axis = 0))\n",
    "print(\"\\n\")\n",
    "print(np.std(earthquakes_new_2, axis = 0))"
   ]
  },
  {
   "cell_type": "code",
   "execution_count": 3,
   "metadata": {},
   "outputs": [
    {
     "data": {
      "text/plain": [
       "(6573, 15)"
      ]
     },
     "execution_count": 3,
     "metadata": {},
     "output_type": "execute_result"
    }
   ],
   "source": [
    "earthquakes_new_2.shape"
   ]
  },
  {
   "cell_type": "code",
   "execution_count": 4,
   "metadata": {},
   "outputs": [
    {
     "data": {
      "text/plain": [
       "(6569, 15)"
      ]
     },
     "execution_count": 4,
     "metadata": {},
     "output_type": "execute_result"
    }
   ],
   "source": [
    "earthquakes_new_2 = np.delete(earthquakes_new_2, (1, 25, 25, 10, 4), axis=0)\n",
    "earthquakes_new_2.shape"
   ]
  },
  {
   "cell_type": "code",
   "execution_count": 6,
   "metadata": {},
   "outputs": [
    {
     "name": "stdout",
     "output_type": "stream",
     "text": [
      "[[2.0000e+00 0.0000e+00 0.0000e+00 ... 8.2000e+00 1.4000e+01 0.0000e+00]\n",
      " [6.0000e+00 0.0000e+00 0.0000e+00 ... 8.0000e+00 1.4000e+01 0.0000e+00]\n",
      " [8.0000e+00 0.0000e+00 0.0000e+00 ... 9.0000e+00 1.4000e+01 0.0000e+00]\n",
      " ...\n",
      " [1.3142e+04 8.0000e+00 0.0000e+00 ... 9.6000e+00 4.0000e+00 0.0000e+00]\n",
      " [1.3144e+04 6.0000e+00 0.0000e+00 ... 1.0400e+01 4.0000e+00 0.0000e+00]\n",
      " [1.3146e+04 4.0000e+00 0.0000e+00 ... 8.8000e+00 4.0000e+00 0.0000e+00]]\n"
     ]
    }
   ],
   "source": [
    "earthquakes_new_3 = earthquakes_new_2 * 2\n",
    "print(earthquakes_new_3)"
   ]
  },
  {
   "cell_type": "code",
   "execution_count": null,
   "metadata": {},
   "outputs": [],
   "source": []
  }
 ],
 "metadata": {
  "kernelspec": {
   "display_name": "Python 3",
   "language": "python",
   "name": "python3"
  },
  "language_info": {
   "codemirror_mode": {
    "name": "ipython",
    "version": 3
   },
   "file_extension": ".py",
   "mimetype": "text/x-python",
   "name": "python",
   "nbconvert_exporter": "python",
   "pygments_lexer": "ipython3",
   "version": "3.7.3"
  }
 },
 "nbformat": 4,
 "nbformat_minor": 2
}
